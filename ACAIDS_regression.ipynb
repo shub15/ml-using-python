{
 "cells": [
  {
   "cell_type": "markdown",
   "id": "4e9ce2fd",
   "metadata": {},
   "source": [
    "# General "
   ]
  },
  {
   "cell_type": "code",
   "execution_count": 19,
   "id": "2f5fb634",
   "metadata": {},
   "outputs": [
    {
     "name": "stdout",
     "output_type": "stream",
     "text": [
      "5\n",
      "6\n"
     ]
    }
   ],
   "source": [
    "a=5\n",
    "b=6\n",
    "print(a)\n",
    "print(b)"
   ]
  },
  {
   "cell_type": "code",
   "execution_count": 20,
   "id": "41ced31b",
   "metadata": {},
   "outputs": [
    {
     "name": "stdout",
     "output_type": "stream",
     "text": [
      "hello\n"
     ]
    }
   ],
   "source": [
    "print(\"hello\")"
   ]
  },
  {
   "cell_type": "code",
   "execution_count": 21,
   "id": "c1d7246c",
   "metadata": {},
   "outputs": [
    {
     "name": "stdout",
     "output_type": "stream",
     "text": [
      "hello\n"
     ]
    }
   ],
   "source": [
    "print('hello')"
   ]
  },
  {
   "cell_type": "code",
   "execution_count": 22,
   "id": "dbf87ad6",
   "metadata": {},
   "outputs": [
    {
     "name": "stdout",
     "output_type": "stream",
     "text": [
      "the value of a is  5\n"
     ]
    }
   ],
   "source": [
    "print('the value of a is ', a)"
   ]
  },
  {
   "cell_type": "code",
   "execution_count": 23,
   "id": "8fff0bfd",
   "metadata": {},
   "outputs": [
    {
     "name": "stdout",
     "output_type": "stream",
     "text": [
      "value of second variable is  6\n"
     ]
    }
   ],
   "source": [
    "print(\"value of second variable is \", b)"
   ]
  },
  {
   "cell_type": "code",
   "execution_count": 24,
   "id": "46818c75",
   "metadata": {},
   "outputs": [
    {
     "data": {
      "text/plain": [
       "5"
      ]
     },
     "execution_count": 24,
     "metadata": {},
     "output_type": "execute_result"
    }
   ],
   "source": [
    "a"
   ]
  },
  {
   "cell_type": "code",
   "execution_count": 25,
   "id": "7d1b2dd4",
   "metadata": {},
   "outputs": [
    {
     "data": {
      "text/plain": [
       "6"
      ]
     },
     "execution_count": 25,
     "metadata": {},
     "output_type": "execute_result"
    }
   ],
   "source": [
    "b"
   ]
  },
  {
   "cell_type": "code",
   "execution_count": 26,
   "id": "1080cc11",
   "metadata": {},
   "outputs": [
    {
     "data": {
      "text/plain": [
       "(5, 6)"
      ]
     },
     "execution_count": 26,
     "metadata": {},
     "output_type": "execute_result"
    }
   ],
   "source": [
    "a,b"
   ]
  },
  {
   "cell_type": "markdown",
   "id": "6b7150c1",
   "metadata": {},
   "source": [
    "# list and Tupple"
   ]
  },
  {
   "cell_type": "code",
   "execution_count": 27,
   "id": "989a7fdb",
   "metadata": {},
   "outputs": [],
   "source": [
    "fruits=['apple', 'banana',\"kiwi\"]"
   ]
  },
  {
   "cell_type": "code",
   "execution_count": 28,
   "id": "c2f1219f",
   "metadata": {},
   "outputs": [
    {
     "data": {
      "text/plain": [
       "['apple', 'banana', 'kiwi']"
      ]
     },
     "execution_count": 28,
     "metadata": {},
     "output_type": "execute_result"
    }
   ],
   "source": [
    "fruits"
   ]
  },
  {
   "cell_type": "code",
   "execution_count": 29,
   "id": "13e200de",
   "metadata": {},
   "outputs": [
    {
     "data": {
      "text/plain": [
       "'apple'"
      ]
     },
     "execution_count": 29,
     "metadata": {},
     "output_type": "execute_result"
    }
   ],
   "source": [
    "fruits[0]"
   ]
  },
  {
   "cell_type": "code",
   "execution_count": 30,
   "id": "bc5db872",
   "metadata": {},
   "outputs": [
    {
     "data": {
      "text/plain": [
       "'banana'"
      ]
     },
     "execution_count": 30,
     "metadata": {},
     "output_type": "execute_result"
    }
   ],
   "source": [
    "fruits[1]"
   ]
  },
  {
   "cell_type": "code",
   "execution_count": 31,
   "id": "c3261032",
   "metadata": {},
   "outputs": [
    {
     "data": {
      "text/plain": [
       "'kiwi'"
      ]
     },
     "execution_count": 31,
     "metadata": {},
     "output_type": "execute_result"
    }
   ],
   "source": [
    "fruits[2]"
   ]
  },
  {
   "cell_type": "code",
   "execution_count": 32,
   "id": "feb325db",
   "metadata": {},
   "outputs": [],
   "source": [
    "fruits[1]='go'"
   ]
  },
  {
   "cell_type": "code",
   "execution_count": 33,
   "id": "7fb3a035",
   "metadata": {},
   "outputs": [
    {
     "data": {
      "text/plain": [
       "['apple', 'go', 'kiwi']"
      ]
     },
     "execution_count": 33,
     "metadata": {},
     "output_type": "execute_result"
    }
   ],
   "source": [
    "fruits"
   ]
  },
  {
   "cell_type": "code",
   "execution_count": null,
   "id": "5c4ef171",
   "metadata": {},
   "outputs": [],
   "source": []
  },
  {
   "cell_type": "code",
   "execution_count": 34,
   "id": "c3fa5c52",
   "metadata": {},
   "outputs": [],
   "source": [
    "role_numbers=[1,2,3,4,5]"
   ]
  },
  {
   "cell_type": "code",
   "execution_count": 35,
   "id": "7cde83d4",
   "metadata": {},
   "outputs": [
    {
     "data": {
      "text/plain": [
       "[1, 2, 3, 4, 5]"
      ]
     },
     "execution_count": 35,
     "metadata": {},
     "output_type": "execute_result"
    }
   ],
   "source": [
    "role_numbers"
   ]
  },
  {
   "cell_type": "code",
   "execution_count": 36,
   "id": "812482c0",
   "metadata": {},
   "outputs": [],
   "source": [
    "role_numbers_list=(2,3,4,5)"
   ]
  },
  {
   "cell_type": "markdown",
   "id": "7aa459d8",
   "metadata": {},
   "source": [
    "# Libraries\n",
    "1. TensorFlow: It is also used in machine learning and deep learning algorithms. \n",
    "2. Pandas: Pandas are an important library for data scientists. It eases data analysis, data manipulation, and cleaning of data. Pandas support operations like Sorting, Re-indexing, Iteration, Concatenation, Conversion of data, Visualizations, Aggregations, etc.\n",
    "3. Numpy: The name “Numpy” stands for “Numerical Python”.  It consists of in-built mathematical functions for easy computations. \n",
    "4. scikit-learn:Machine learning library scikit-learn is a free software machine learning library for the Python programming language. It features various classification, regression and clustering algorithms"
   ]
  },
  {
   "cell_type": "code",
   "execution_count": 37,
   "id": "db5d77b9",
   "metadata": {},
   "outputs": [],
   "source": [
    "import pandas as pd # Now the Pandas package can be referred to as pd instead of pandas\n",
    "import numpy as np\n"
   ]
  },
  {
   "cell_type": "markdown",
   "id": "b45c90ae",
   "metadata": {},
   "source": [
    "# Stage 1: Preparation of data\n",
    "\n",
    "## 1.1 Importing a csv file and data analysis"
   ]
  },
  {
   "cell_type": "code",
   "execution_count": 38,
   "id": "191938f7",
   "metadata": {},
   "outputs": [],
   "source": [
    "data=pd.read_csv(r\"C:\\Users\\Param\\Desktop\\house price prediction dataset - Copy.csv\")"
   ]
  },
  {
   "cell_type": "code",
   "execution_count": 39,
   "id": "0d75e62d",
   "metadata": {},
   "outputs": [
    {
     "data": {
      "text/html": [
       "<div>\n",
       "<style scoped>\n",
       "    .dataframe tbody tr th:only-of-type {\n",
       "        vertical-align: middle;\n",
       "    }\n",
       "\n",
       "    .dataframe tbody tr th {\n",
       "        vertical-align: top;\n",
       "    }\n",
       "\n",
       "    .dataframe thead th {\n",
       "        text-align: right;\n",
       "    }\n",
       "</style>\n",
       "<table border=\"1\" class=\"dataframe\">\n",
       "  <thead>\n",
       "    <tr style=\"text-align: right;\">\n",
       "      <th></th>\n",
       "      <th>price</th>\n",
       "      <th>area</th>\n",
       "    </tr>\n",
       "  </thead>\n",
       "  <tbody>\n",
       "    <tr>\n",
       "      <th>0</th>\n",
       "      <td>13300000</td>\n",
       "      <td>7420</td>\n",
       "    </tr>\n",
       "    <tr>\n",
       "      <th>1</th>\n",
       "      <td>12250000</td>\n",
       "      <td>8960</td>\n",
       "    </tr>\n",
       "    <tr>\n",
       "      <th>2</th>\n",
       "      <td>12250000</td>\n",
       "      <td>9960</td>\n",
       "    </tr>\n",
       "    <tr>\n",
       "      <th>3</th>\n",
       "      <td>12215000</td>\n",
       "      <td>7500</td>\n",
       "    </tr>\n",
       "    <tr>\n",
       "      <th>4</th>\n",
       "      <td>11410000</td>\n",
       "      <td>7420</td>\n",
       "    </tr>\n",
       "  </tbody>\n",
       "</table>\n",
       "</div>"
      ],
      "text/plain": [
       "      price  area\n",
       "0  13300000  7420\n",
       "1  12250000  8960\n",
       "2  12250000  9960\n",
       "3  12215000  7500\n",
       "4  11410000  7420"
      ]
     },
     "execution_count": 39,
     "metadata": {},
     "output_type": "execute_result"
    }
   ],
   "source": [
    "data.head() # this returns first 5 rows as defaults\n"
   ]
  },
  {
   "cell_type": "code",
   "execution_count": 40,
   "id": "7ca3b50b",
   "metadata": {},
   "outputs": [
    {
     "name": "stdout",
     "output_type": "stream",
     "text": [
      "<class 'pandas.core.frame.DataFrame'>\n",
      "RangeIndex: 545 entries, 0 to 544\n",
      "Data columns (total 2 columns):\n",
      " #   Column  Non-Null Count  Dtype\n",
      "---  ------  --------------  -----\n",
      " 0   price   545 non-null    int64\n",
      " 1   area    545 non-null    int64\n",
      "dtypes: int64(2)\n",
      "memory usage: 8.6 KB\n"
     ]
    },
    {
     "name": "stderr",
     "output_type": "stream",
     "text": [
      "<ipython-input-40-2021d7df9464>:1: FutureWarning: null_counts is deprecated. Use show_counts instead\n",
      "  data.info(null_counts=True)\n"
     ]
    }
   ],
   "source": [
    "data.info(null_counts=True)"
   ]
  },
  {
   "cell_type": "markdown",
   "id": "3032adee",
   "metadata": {},
   "source": [
    "# Separating Input and Output Data"
   ]
  },
  {
   "cell_type": "code",
   "execution_count": 41,
   "id": "845fc7d3",
   "metadata": {},
   "outputs": [
    {
     "name": "stdout",
     "output_type": "stream",
     "text": [
      "     area\n",
      "0    7420\n",
      "1    8960\n",
      "2    9960\n",
      "3    7500\n",
      "4    7420\n",
      "..    ...\n",
      "540  3000\n",
      "541  2400\n",
      "542  3620\n",
      "543  2910\n",
      "544  3850\n",
      "\n",
      "[545 rows x 1 columns]\n",
      "        price\n",
      "0    13300000\n",
      "1    12250000\n",
      "2    12250000\n",
      "3    12215000\n",
      "4    11410000\n",
      "..        ...\n",
      "540   1820000\n",
      "541   1767150\n",
      "542   1750000\n",
      "543   1750000\n",
      "544   1750000\n",
      "\n",
      "[545 rows x 1 columns]\n"
     ]
    }
   ],
   "source": [
    "X=data.drop('price', axis='columns')\n",
    "print(X)\n",
    "Y=data.drop('area', axis='columns')\n",
    "print(Y)"
   ]
  },
  {
   "cell_type": "markdown",
   "id": "4893849b",
   "metadata": {},
   "source": [
    "# Stage 2: Splitting of data for training and testing"
   ]
  },
  {
   "cell_type": "code",
   "execution_count": 42,
   "id": "f293834c",
   "metadata": {},
   "outputs": [],
   "source": [
    "# splitting the data\n",
    "from sklearn.model_selection import train_test_split  # importing train_test_split function from sklearm library"
   ]
  },
  {
   "cell_type": "code",
   "execution_count": 43,
   "id": "619f3b75",
   "metadata": {},
   "outputs": [],
   "source": [
    "X_train, X_test, Y_train, Y_test=train_test_split(X, Y, test_size=0.40, random_state=1)"
   ]
  },
  {
   "cell_type": "code",
   "execution_count": 44,
   "id": "e4c7b15d",
   "metadata": {},
   "outputs": [
    {
     "name": "stdout",
     "output_type": "stream",
     "text": [
      "      area\n",
      "171  10269\n",
      "161   6100\n",
      "69   12090\n",
      "402   5880\n",
      "91    6750\n",
      "..     ...\n",
      "129  11460\n",
      "144   4700\n",
      "72    5020\n",
      "235   5680\n",
      "37    9000\n",
      "\n",
      "[327 rows x 1 columns]\n",
      "      area\n",
      "62    6240\n",
      "247   8400\n",
      "142  10500\n",
      "107   6420\n",
      "483   6615\n",
      "..     ...\n",
      "445   3450\n",
      "73    6600\n",
      "197   2800\n",
      "368   5640\n",
      "232   3745\n",
      "\n",
      "[218 rows x 1 columns]\n",
      "       price\n",
      "171  5250000\n",
      "161  5460000\n",
      "69   6790000\n",
      "402  3500000\n",
      "91   6419000\n",
      "..       ...\n",
      "129  5873000\n",
      "144  5600000\n",
      "72   6720000\n",
      "235  4620000\n",
      "37   7980000\n",
      "\n",
      "[327 rows x 1 columns]\n",
      "      area\n",
      "62    6240\n",
      "247   8400\n",
      "142  10500\n",
      "107   6420\n",
      "483   6615\n",
      "..     ...\n",
      "445   3450\n",
      "73    6600\n",
      "197   2800\n",
      "368   5640\n",
      "232   3745\n",
      "\n",
      "[218 rows x 1 columns]\n"
     ]
    }
   ],
   "source": [
    "print(X_train)\n",
    "print(X_test)\n",
    "print(Y_train)\n",
    "print(X_test)"
   ]
  },
  {
   "cell_type": "markdown",
   "id": "a7e0ab04",
   "metadata": {},
   "source": [
    "# Stage 3: Training or fitting a model/equation"
   ]
  },
  {
   "cell_type": "code",
   "execution_count": 45,
   "id": "d5d8edd2",
   "metadata": {},
   "outputs": [
    {
     "data": {
      "text/plain": [
       "LinearRegression()"
      ]
     },
     "execution_count": 45,
     "metadata": {},
     "output_type": "execute_result"
    }
   ],
   "source": [
    "from sklearn.linear_model import LinearRegression\n",
    "linreg= LinearRegression()\n",
    "linreg.fit(X_train, Y_train)"
   ]
  },
  {
   "cell_type": "code",
   "execution_count": 46,
   "id": "f735ed2c",
   "metadata": {},
   "outputs": [
    {
     "name": "stdout",
     "output_type": "stream",
     "text": [
      "Intercept is [2523906.86520251]\n",
      "Coefficients are [[420.13674203]]\n"
     ]
    }
   ],
   "source": [
    "#linreg.intercept_\n",
    "#linreg.coef_\n",
    "print('Intercept is', linreg.intercept_)\n",
    "print(\"Coefficients are\", linreg.coef_)"
   ]
  },
  {
   "cell_type": "markdown",
   "id": "dec6b88f",
   "metadata": {},
   "source": [
    "# Price=2523906.86+420.13* Area"
   ]
  },
  {
   "cell_type": "code",
   "execution_count": 47,
   "id": "e9833b0d",
   "metadata": {},
   "outputs": [
    {
     "data": {
      "text/plain": [
       "array([[5145560.13547152],\n",
       "       [6053055.49825695],\n",
       "       [6935342.65652056],\n",
       "       [5221184.74903698],\n",
       "       [5303111.41373288],\n",
       "       [4036399.13651156],\n",
       "       [3885149.90938065],\n",
       "       [5296809.36260243],\n",
       "       [3658276.0686843 ],\n",
       "       [4624590.57535396],\n",
       "       [3637269.23158278],\n",
       "       [4530059.80839715],\n",
       "       [4540563.22694791],\n",
       "       [4078412.81071459],\n",
       "       [5758959.77883575],\n",
       "       [5641321.49106727],\n",
       "       [4322092.12109215],\n",
       "       [5044727.31738426],\n",
       "       [5296809.36260243],\n",
       "       [4056985.83687104],\n",
       "       [3960774.5229461 ],\n",
       "       [4834658.94636911],\n",
       "       [4049003.23877247],\n",
       "       [3859941.70485883],\n",
       "       [4036399.13651156],\n",
       "       [6053055.49825695],\n",
       "       [3784317.09129338],\n",
       "       [6254721.13443149],\n",
       "       [4939693.13187668],\n",
       "       [3425100.17685748],\n",
       "       [5195976.54451516],\n",
       "       [5265299.10695016],\n",
       "       [3343173.51216158],\n",
       "       [4981706.80607971],\n",
       "       [6041291.6694801 ],\n",
       "       [3729699.31482944],\n",
       "       [4620389.20793366],\n",
       "       [3651553.88081181],\n",
       "       [4708617.92376002],\n",
       "       [5179591.21157598],\n",
       "       [4607785.10567275],\n",
       "       [3985982.72746792],\n",
       "       [3872545.80711974],\n",
       "       [4603583.73825245],\n",
       "       [5397642.1806897 ],\n",
       "       [4351501.69303428],\n",
       "       [4981706.80607971],\n",
       "       [4376709.89755609],\n",
       "       [3574248.72027824],\n",
       "       [4141433.32201913],\n",
       "       [3859941.70485883],\n",
       "       [3852379.24350229],\n",
       "       [3994385.46230853],\n",
       "       [4347300.32561397],\n",
       "       [5229587.48387758],\n",
       "       [4628791.94277427],\n",
       "       [3784317.09129338],\n",
       "       [4590979.63599154],\n",
       "       [4103621.0152364 ],\n",
       "       [4127148.6727901 ],\n",
       "       [5044727.31738426],\n",
       "       [5464864.05941455],\n",
       "       [4053204.60619277],\n",
       "       [4238064.7726861 ],\n",
       "       [4271675.71204852],\n",
       "       [3746504.78451066],\n",
       "       [5069935.52190607],\n",
       "       [3784317.09129338],\n",
       "       [3694827.96524093],\n",
       "       [4546865.27807836],\n",
       "       [4534261.17581745],\n",
       "       [5296809.36260243],\n",
       "       [4750631.59796305],\n",
       "       [4036399.13651156],\n",
       "       [5044727.31738426],\n",
       "       [3438124.41586042],\n",
       "       [3784317.09129338],\n",
       "       [5641321.49106727],\n",
       "       [5473266.79425515],\n",
       "       [3985982.72746792],\n",
       "       [5027921.84770304],\n",
       "       [3998586.82972883],\n",
       "       [5221184.74903698],\n",
       "       [5233788.85129789],\n",
       "       [5132956.03321062],\n",
       "       [4414522.20433882],\n",
       "       [3784317.09129338],\n",
       "       [3859941.70485883],\n",
       "       [4918686.29477517],\n",
       "       [4002788.19714913],\n",
       "       [4221259.30300489],\n",
       "       [4960699.9689782 ],\n",
       "       [3700289.74288732],\n",
       "       [5246392.9535588 ],\n",
       "       [4607785.10567275],\n",
       "       [4313689.38625155],\n",
       "       [5674932.43042969],\n",
       "       [4994310.90834062],\n",
       "       [6935342.65652056],\n",
       "       [4414522.20433882],\n",
       "       [4141433.32201913],\n",
       "       [6095069.17245998],\n",
       "       [3834733.50033702],\n",
       "       [4200252.46590337],\n",
       "       [4244366.82381655],\n",
       "       [4540563.22694791],\n",
       "       [8069711.86000235],\n",
       "       [5788369.35077787],\n",
       "       [5086740.99158728],\n",
       "       [4235964.08897595],\n",
       "       [5275802.52550092],\n",
       "       [4246467.5075267 ],\n",
       "       [4359904.42787488],\n",
       "       [3859941.70485883],\n",
       "       [5611911.91912515],\n",
       "       [3998586.82972883],\n",
       "       [4053204.60619277],\n",
       "       [4834658.94636911],\n",
       "       [5990034.98695241],\n",
       "       [5296809.36260243],\n",
       "       [5990034.98695241],\n",
       "       [3563745.30172748],\n",
       "       [4141433.32201913],\n",
       "       [4414522.20433882],\n",
       "       [4086815.54555519],\n",
       "       [4355703.06045458],\n",
       "       [6826107.10359269],\n",
       "       [4834658.94636911],\n",
       "       [4191849.73106276],\n",
       "       [3973378.62520701],\n",
       "       [4141433.32201913],\n",
       "       [4834658.94636911],\n",
       "       [4002788.19714913],\n",
       "       [3425100.17685748],\n",
       "       [5296809.36260243],\n",
       "       [4053204.60619277],\n",
       "       [4198571.91893525],\n",
       "       [3764570.66441796],\n",
       "       [5990034.98695241],\n",
       "       [4259071.60978761],\n",
       "       [6128680.11182241],\n",
       "       [5044727.31738426],\n",
       "       [3994385.46230853],\n",
       "       [4996411.59205077],\n",
       "       [5750557.04399514],\n",
       "       [3544839.14833612],\n",
       "       [3847337.60259793],\n",
       "       [5233788.85129789],\n",
       "       [5927014.47564787],\n",
       "       [4834658.94636911],\n",
       "       [3217132.48955249],\n",
       "       [3801122.56097459],\n",
       "       [4237644.63594407],\n",
       "       [3678022.49555972],\n",
       "       [4456535.87854185],\n",
       "       [3500724.79042294],\n",
       "       [5561915.64682354],\n",
       "       [4002788.19714913],\n",
       "       [3425100.17685748],\n",
       "       [3973378.62520701],\n",
       "       [4044801.87135216],\n",
       "       [4204453.83332367],\n",
       "       [5044727.31738426],\n",
       "       [5044727.31738426],\n",
       "       [4414522.20433882],\n",
       "       [4011190.93198974],\n",
       "       [5548891.4078206 ],\n",
       "       [3834733.50033702],\n",
       "       [4204453.83332367],\n",
       "       [3370482.40039355],\n",
       "       [4221259.30300489],\n",
       "       [5885000.80144484],\n",
       "       [3694827.96524093],\n",
       "       [3999427.10321289],\n",
       "       [3960774.5229461 ],\n",
       "       [5069935.52190607],\n",
       "       [4414522.20433882],\n",
       "       [5195976.54451516],\n",
       "       [4813652.1092676 ],\n",
       "       [5990034.98695241],\n",
       "       [4187648.36364246],\n",
       "       [5637120.12364697],\n",
       "       [6876523.51263632],\n",
       "       [4049003.23877247],\n",
       "       [5053130.05222486],\n",
       "       [4246467.5075267 ],\n",
       "       [5151442.04985995],\n",
       "       [4414522.20433882],\n",
       "       [4439730.40886064],\n",
       "       [5343024.40422576],\n",
       "       [3994385.46230853],\n",
       "       [6254721.13443149],\n",
       "       [4036399.13651156],\n",
       "       [5528724.84420315],\n",
       "       [5044727.31738426],\n",
       "       [4221259.30300489],\n",
       "       [4204453.83332367],\n",
       "       [4221259.30300489],\n",
       "       [4775839.80248487],\n",
       "       [5296809.36260243],\n",
       "       [4120426.48491762],\n",
       "       [4187648.36364246],\n",
       "       [4582576.90115094],\n",
       "       [3985982.72746792],\n",
       "       [4029676.94863907],\n",
       "       [3479717.95332142],\n",
       "       [4204453.83332367],\n",
       "       [5254795.6883994 ],\n",
       "       [6935342.65652056],\n",
       "       [6288332.07379392],\n",
       "       [3906156.74648217],\n",
       "       [6252620.45072134],\n",
       "       [6128680.11182241],\n",
       "       [3973378.62520701],\n",
       "       [5296809.36260243],\n",
       "       [3700289.74288732],\n",
       "       [4893478.09025335],\n",
       "       [4097318.96410595]])"
      ]
     },
     "execution_count": 47,
     "metadata": {},
     "output_type": "execute_result"
    }
   ],
   "source": [
    "Y_predicted_test=linreg.predict(X_test)\n",
    "Y_predicted_test"
   ]
  },
  {
   "cell_type": "markdown",
   "id": "e6659142",
   "metadata": {},
   "source": [
    "# Model Evaluation by MAE, MSE, RMSE"
   ]
  },
  {
   "cell_type": "code",
   "execution_count": 48,
   "id": "309fb19a",
   "metadata": {},
   "outputs": [
    {
     "name": "stdout",
     "output_type": "stream",
     "text": [
      "MAE is 1204867.9151961077\n",
      "MSE is 2849271944512.727\n",
      "RMSE is 1687978.656415041\n",
      "R2 is 0.2785125347082563\n"
     ]
    }
   ],
   "source": [
    "#model evaluation by MAE,MSE,RMSE\n",
    "from sklearn import metrics\n",
    "\n",
    "MAE=metrics.mean_absolute_error(Y_test, Y_predicted_test)\n",
    "print(\"MAE is\",MAE)\n",
    "\n",
    "MSE=metrics.mean_squared_error(Y_test,Y_predicted_test)\n",
    "print(\"MSE is\", MSE)\n",
    "\n",
    "RMSE=np.sqrt(metrics.mean_squared_error(Y_test, Y_predicted_test))\n",
    "print(\"RMSE is\", RMSE)\n",
    "\n",
    "r_squared=metrics.r2_score(Y_test, Y_predicted_test)\n",
    "print(\"R2 is\", r_squared)"
   ]
  },
  {
   "cell_type": "code",
   "execution_count": 49,
   "id": "c8b0be8a",
   "metadata": {},
   "outputs": [
    {
     "name": "stderr",
     "output_type": "stream",
     "text": [
      "C:\\Users\\Param\\anaconda3\\lib\\site-packages\\seaborn\\_decorators.py:36: FutureWarning: Pass the following variables as keyword args: x, y. From version 0.12, the only valid positional argument will be `data`, and passing other arguments without an explicit keyword will result in an error or misinterpretation.\n",
      "  warnings.warn(\n"
     ]
    },
    {
     "data": {
      "text/plain": [
       "Text(0, 0.5, 'Predicted Values')"
      ]
     },
     "execution_count": 49,
     "metadata": {},
     "output_type": "execute_result"
    },
    {
     "data": {
      "image/png": "[encoded data removed]",
      "text/plain": [
       "<Figure size 432x288 with 1 Axes>"
      ]
     },
     "metadata": {
      "needs_background": "light"
     },
     "output_type": "display_data"
    }
   ],
   "source": [
    "import matplotlib.pyplot as plt                                  \n",
    "import seaborn as sns \n",
    "sns.regplot(Y_test,Y_predicted_test)\n",
    "plt.xlabel('Actual Values')\n",
    "plt.ylabel('Predicted Values')"
   ]
  },
  {
   "cell_type": "code",
   "execution_count": null,
   "id": "48c1b5fe",
   "metadata": {},
   "outputs": [],
   "source": []
  }
 ],
 "metadata": {
  "kernelspec": {
   "display_name": "Python 3 (ipykernel)",
   "language": "python",
   "name": "python3"
  },
  "language_info": {
   "codemirror_mode": {
    "name": "ipython",
    "version": 3
   },
   "file_extension": ".py",
   "mimetype": "text/x-python",
   "name": "python",
   "nbconvert_exporter": "python",
   "pygments_lexer": "ipython3",
   "version": "3.11.5"
  }
 },
 "nbformat": 4,
 "nbformat_minor": 5
}
