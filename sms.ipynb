{
 "cells": [
  {
   "cell_type": "code",
   "execution_count": 42,
   "id": "37ee355f-c1aa-4d4f-9283-ee5cdff9dd9f",
   "metadata": {},
   "outputs": [],
   "source": [
    "import pandas as pd\n",
    "import numpy as np"
   ]
  },
  {
   "cell_type": "code",
   "execution_count": 43,
   "id": "c1b00b6e-67bc-4b62-bf9f-1ebc0fc8e339",
   "metadata": {},
   "outputs": [
    {
     "data": {
      "text/html": [
       "<div>\n",
       "<style scoped>\n",
       "    .dataframe tbody tr th:only-of-type {\n",
       "        vertical-align: middle;\n",
       "    }\n",
       "\n",
       "    .dataframe tbody tr th {\n",
       "        vertical-align: top;\n",
       "    }\n",
       "\n",
       "    .dataframe thead th {\n",
       "        text-align: right;\n",
       "    }\n",
       "</style>\n",
       "<table border=\"1\" class=\"dataframe\">\n",
       "  <thead>\n",
       "    <tr style=\"text-align: right;\">\n",
       "      <th></th>\n",
       "      <th>sms_data_id</th>\n",
       "      <th>user_id</th>\n",
       "      <th>sms_id</th>\n",
       "      <th>body</th>\n",
       "      <th>creator</th>\n",
       "      <th>date</th>\n",
       "    </tr>\n",
       "  </thead>\n",
       "  <tbody>\n",
       "    <tr>\n",
       "      <th>0</th>\n",
       "      <td>624b68b4-3d96-4763-8fca-8cfbafdd945a</td>\n",
       "      <td>64</td>\n",
       "      <td>8212.0</td>\n",
       "      <td>INR 6 debited from your YES BANK prepaid card ...</td>\n",
       "      <td>com.samsung.android.messaging</td>\n",
       "      <td>2024-12-20T04:56:38.556Z</td>\n",
       "    </tr>\n",
       "    <tr>\n",
       "      <th>1</th>\n",
       "      <td>624b68b4-3d96-4763-8fca-8cfbafdd945a</td>\n",
       "      <td>64</td>\n",
       "      <td>8211.0</td>\n",
       "      <td>आपके Jio नंबर 9653181533  के प्लान की वैधता जल...</td>\n",
       "      <td>com.samsung.android.messaging</td>\n",
       "      <td>2024-12-20T03:50:29.256Z</td>\n",
       "    </tr>\n",
       "    <tr>\n",
       "      <th>2</th>\n",
       "      <td>624b68b4-3d96-4763-8fca-8cfbafdd945a</td>\n",
       "      <td>64</td>\n",
       "      <td>8210.0</td>\n",
       "      <td>Hey, Save Rs.100 extra on groceries &amp; more wit...</td>\n",
       "      <td>com.samsung.android.messaging</td>\n",
       "      <td>2024-12-20T03:49:44.705Z</td>\n",
       "    </tr>\n",
       "    <tr>\n",
       "      <th>3</th>\n",
       "      <td>624b68b4-3d96-4763-8fca-8cfbafdd945a</td>\n",
       "      <td>64</td>\n",
       "      <td>8209.0</td>\n",
       "      <td>INR 6 debited from your YES BANK prepaid card ...</td>\n",
       "      <td>com.samsung.android.messaging</td>\n",
       "      <td>2024-12-20T02:19:05.210Z</td>\n",
       "    </tr>\n",
       "    <tr>\n",
       "      <th>4</th>\n",
       "      <td>624b68b4-3d96-4763-8fca-8cfbafdd945a</td>\n",
       "      <td>64</td>\n",
       "      <td>8208.0</td>\n",
       "      <td>INR 6 debited from your YES BANK prepaid card ...</td>\n",
       "      <td>com.samsung.android.messaging</td>\n",
       "      <td>2024-12-19T21:36:28.502Z</td>\n",
       "    </tr>\n",
       "    <tr>\n",
       "      <th>...</th>\n",
       "      <td>...</td>\n",
       "      <td>...</td>\n",
       "      <td>...</td>\n",
       "      <td>...</td>\n",
       "      <td>...</td>\n",
       "      <td>...</td>\n",
       "    </tr>\n",
       "    <tr>\n",
       "      <th>5051</th>\n",
       "      <td>6f1de0df-f096-4780-bfa3-779bc0842713</td>\n",
       "      <td>65</td>\n",
       "      <td>6025.0</td>\n",
       "      <td>Dear Customer, your call went unattended at Ca...</td>\n",
       "      <td>com.google.android.apps.messaging</td>\n",
       "      <td>2023-11-22T14:57:39.570Z</td>\n",
       "    </tr>\n",
       "    <tr>\n",
       "      <th>5052</th>\n",
       "      <td>6f1de0df-f096-4780-bfa3-779bc0842713</td>\n",
       "      <td>65</td>\n",
       "      <td>6021.0</td>\n",
       "      <td>LIC Premium Rs.****11644.00 for Policy No. 902...</td>\n",
       "      <td>com.google.android.apps.messaging</td>\n",
       "      <td>2023-11-22T02:47:34.901Z</td>\n",
       "    </tr>\n",
       "    <tr>\n",
       "      <th>5053</th>\n",
       "      <td>6f1de0df-f096-4780-bfa3-779bc0842713</td>\n",
       "      <td>65</td>\n",
       "      <td>6019.0</td>\n",
       "      <td>No Super Trend No RSI, MACD, Ema, No \\nJust Si...</td>\n",
       "      <td>com.google.android.apps.messaging</td>\n",
       "      <td>2023-11-21T12:30:01.079Z</td>\n",
       "    </tr>\n",
       "    <tr>\n",
       "      <th>5054</th>\n",
       "      <td>6f1de0df-f096-4780-bfa3-779bc0842713</td>\n",
       "      <td>65</td>\n",
       "      <td>7592.0</td>\n",
       "      <td>Due to system upgrade, SVC Bank Services like ...</td>\n",
       "      <td>com.google.android.apps.messaging</td>\n",
       "      <td>2024-12-21T08:49:13.009Z</td>\n",
       "    </tr>\n",
       "    <tr>\n",
       "      <th>5055</th>\n",
       "      <td>6f1de0df-f096-4780-bfa3-779bc0842713</td>\n",
       "      <td>65</td>\n",
       "      <td>7591.0</td>\n",
       "      <td>Dear Customer, Get Rs.50 Off on orders above R...</td>\n",
       "      <td>com.google.android.apps.messaging</td>\n",
       "      <td>2024-12-21T07:31:47.264Z</td>\n",
       "    </tr>\n",
       "  </tbody>\n",
       "</table>\n",
       "<p>5056 rows × 6 columns</p>\n",
       "</div>"
      ],
      "text/plain": [
       "                               sms_data_id  user_id  sms_id  \\\n",
       "0     624b68b4-3d96-4763-8fca-8cfbafdd945a       64  8212.0   \n",
       "1     624b68b4-3d96-4763-8fca-8cfbafdd945a       64  8211.0   \n",
       "2     624b68b4-3d96-4763-8fca-8cfbafdd945a       64  8210.0   \n",
       "3     624b68b4-3d96-4763-8fca-8cfbafdd945a       64  8209.0   \n",
       "4     624b68b4-3d96-4763-8fca-8cfbafdd945a       64  8208.0   \n",
       "...                                    ...      ...     ...   \n",
       "5051  6f1de0df-f096-4780-bfa3-779bc0842713       65  6025.0   \n",
       "5052  6f1de0df-f096-4780-bfa3-779bc0842713       65  6021.0   \n",
       "5053  6f1de0df-f096-4780-bfa3-779bc0842713       65  6019.0   \n",
       "5054  6f1de0df-f096-4780-bfa3-779bc0842713       65  7592.0   \n",
       "5055  6f1de0df-f096-4780-bfa3-779bc0842713       65  7591.0   \n",
       "\n",
       "                                                   body  \\\n",
       "0     INR 6 debited from your YES BANK prepaid card ...   \n",
       "1     आपके Jio नंबर 9653181533  के प्लान की वैधता जल...   \n",
       "2     Hey, Save Rs.100 extra on groceries & more wit...   \n",
       "3     INR 6 debited from your YES BANK prepaid card ...   \n",
       "4     INR 6 debited from your YES BANK prepaid card ...   \n",
       "...                                                 ...   \n",
       "5051  Dear Customer, your call went unattended at Ca...   \n",
       "5052  LIC Premium Rs.****11644.00 for Policy No. 902...   \n",
       "5053  No Super Trend No RSI, MACD, Ema, No \\nJust Si...   \n",
       "5054  Due to system upgrade, SVC Bank Services like ...   \n",
       "5055  Dear Customer, Get Rs.50 Off on orders above R...   \n",
       "\n",
       "                                creator                      date  \n",
       "0         com.samsung.android.messaging  2024-12-20T04:56:38.556Z  \n",
       "1         com.samsung.android.messaging  2024-12-20T03:50:29.256Z  \n",
       "2         com.samsung.android.messaging  2024-12-20T03:49:44.705Z  \n",
       "3         com.samsung.android.messaging  2024-12-20T02:19:05.210Z  \n",
       "4         com.samsung.android.messaging  2024-12-19T21:36:28.502Z  \n",
       "...                                 ...                       ...  \n",
       "5051  com.google.android.apps.messaging  2023-11-22T14:57:39.570Z  \n",
       "5052  com.google.android.apps.messaging  2023-11-22T02:47:34.901Z  \n",
       "5053  com.google.android.apps.messaging  2023-11-21T12:30:01.079Z  \n",
       "5054  com.google.android.apps.messaging  2024-12-21T08:49:13.009Z  \n",
       "5055  com.google.android.apps.messaging  2024-12-21T07:31:47.264Z  \n",
       "\n",
       "[5056 rows x 6 columns]"
      ]
     },
     "execution_count": 43,
     "metadata": {},
     "output_type": "execute_result"
    }
   ],
   "source": [
    "data = pd.read_csv(r\"E:\\Users\\Documents\\College\\Engineering\\S.Y. Eng\\Machine Learning\\sms_data.csv\")\n",
    "data"
   ]
  },
  {
   "cell_type": "code",
   "execution_count": 44,
   "id": "cde1b6e8-b4a5-46d6-b67a-d6c5ee2a08e4",
   "metadata": {},
   "outputs": [
    {
     "name": "stdout",
     "output_type": "stream",
     "text": [
      "<class 'pandas.core.frame.DataFrame'>\n",
      "RangeIndex: 5056 entries, 0 to 5055\n",
      "Data columns (total 6 columns):\n",
      " #   Column       Non-Null Count  Dtype  \n",
      "---  ------       --------------  -----  \n",
      " 0   sms_data_id  5056 non-null   object \n",
      " 1   user_id      5056 non-null   int64  \n",
      " 2   sms_id       5052 non-null   float64\n",
      " 3   body         5052 non-null   object \n",
      " 4   creator      5052 non-null   object \n",
      " 5   date         5052 non-null   object \n",
      "dtypes: float64(1), int64(1), object(4)\n",
      "memory usage: 237.1+ KB\n"
     ]
    }
   ],
   "source": [
    "data.info()"
   ]
  },
  {
   "cell_type": "code",
   "execution_count": 70,
   "id": "9cf3d9c4-2df4-400a-ad2a-b81182ec7a08",
   "metadata": {},
   "outputs": [],
   "source": [
    "# newdata = data.drop(data.index[5052:5056])"
   ]
  },
  {
   "cell_type": "code",
   "execution_count": 72,
   "id": "ac8c20b3-eeaf-41cb-8198-443a51f7b19d",
   "metadata": {},
   "outputs": [
    {
     "name": "stdout",
     "output_type": "stream",
     "text": [
      "<class 'pandas.core.frame.DataFrame'>\n",
      "RangeIndex: 5056 entries, 0 to 5055\n",
      "Data columns (total 6 columns):\n",
      " #   Column       Non-Null Count  Dtype  \n",
      "---  ------       --------------  -----  \n",
      " 0   sms_data_id  5056 non-null   object \n",
      " 1   user_id      5056 non-null   int64  \n",
      " 2   sms_id       5052 non-null   float64\n",
      " 3   body         5052 non-null   object \n",
      " 4   creator      5052 non-null   object \n",
      " 5   date         5052 non-null   object \n",
      "dtypes: float64(1), int64(1), object(4)\n",
      "memory usage: 237.1+ KB\n"
     ]
    }
   ],
   "source": [
    "data.info()"
   ]
  },
  {
   "cell_type": "code",
   "execution_count": 55,
   "id": "524b4e1c-33bb-4eb3-9db9-99d44c2c5e80",
   "metadata": {},
   "outputs": [
    {
     "data": {
      "text/plain": [
       "<Axes: >"
      ]
     },
     "execution_count": 55,
     "metadata": {},
     "output_type": "execute_result"
    },
    {
     "data": {
      "image/png": "[encoded data removed]",
      "text/plain": [
       "<Figure size 640x480 with 1 Axes>"
      ]
     },
     "metadata": {},
     "output_type": "display_data"
    }
   ],
   "source": [
    "data.plot()"
   ]
  },
  {
   "cell_type": "code",
   "execution_count": 56,
   "id": "534ae570-06b2-48c5-a8c9-b2cebdee25c1",
   "metadata": {},
   "outputs": [
    {
     "data": {
      "text/plain": [
       "array([[<Axes: title={'center': 'user_id'}>,\n",
       "        <Axes: title={'center': 'sms_id'}>]], dtype=object)"
      ]
     },
     "execution_count": 56,
     "metadata": {},
     "output_type": "execute_result"
    },
    {
     "data": {
      "image/png": "[encoded data removed]",
      "text/plain": [
       "<Figure size 640x480 with 2 Axes>"
      ]
     },
     "metadata": {},
     "output_type": "display_data"
    }
   ],
   "source": [
    "data.hist()"
   ]
  },
  {
   "cell_type": "code",
   "execution_count": 59,
   "id": "f23dcf0f-84ae-4789-b6b6-12b6128462fb",
   "metadata": {},
   "outputs": [
    {
     "data": {
      "text/html": [
       "<div>\n",
       "<style scoped>\n",
       "    .dataframe tbody tr th:only-of-type {\n",
       "        vertical-align: middle;\n",
       "    }\n",
       "\n",
       "    .dataframe tbody tr th {\n",
       "        vertical-align: top;\n",
       "    }\n",
       "\n",
       "    .dataframe thead th {\n",
       "        text-align: right;\n",
       "    }\n",
       "</style>\n",
       "<table border=\"1\" class=\"dataframe\">\n",
       "  <thead>\n",
       "    <tr style=\"text-align: right;\">\n",
       "      <th></th>\n",
       "      <th>user_id</th>\n",
       "      <th>sms_id</th>\n",
       "    </tr>\n",
       "  </thead>\n",
       "  <tbody>\n",
       "    <tr>\n",
       "      <th>count</th>\n",
       "      <td>5056.000000</td>\n",
       "      <td>5052.000000</td>\n",
       "    </tr>\n",
       "    <tr>\n",
       "      <th>mean</th>\n",
       "      <td>59.704707</td>\n",
       "      <td>3706.888757</td>\n",
       "    </tr>\n",
       "    <tr>\n",
       "      <th>std</th>\n",
       "      <td>7.773018</td>\n",
       "      <td>2153.801644</td>\n",
       "    </tr>\n",
       "    <tr>\n",
       "      <th>min</th>\n",
       "      <td>46.000000</td>\n",
       "      <td>1.000000</td>\n",
       "    </tr>\n",
       "    <tr>\n",
       "      <th>25%</th>\n",
       "      <td>50.000000</td>\n",
       "      <td>1369.750000</td>\n",
       "    </tr>\n",
       "    <tr>\n",
       "      <th>50%</th>\n",
       "      <td>62.000000</td>\n",
       "      <td>4351.000000</td>\n",
       "    </tr>\n",
       "    <tr>\n",
       "      <th>75%</th>\n",
       "      <td>66.000000</td>\n",
       "      <td>5252.000000</td>\n",
       "    </tr>\n",
       "    <tr>\n",
       "      <th>max</th>\n",
       "      <td>66.000000</td>\n",
       "      <td>8212.000000</td>\n",
       "    </tr>\n",
       "  </tbody>\n",
       "</table>\n",
       "</div>"
      ],
      "text/plain": [
       "           user_id       sms_id\n",
       "count  5056.000000  5052.000000\n",
       "mean     59.704707  3706.888757\n",
       "std       7.773018  2153.801644\n",
       "min      46.000000     1.000000\n",
       "25%      50.000000  1369.750000\n",
       "50%      62.000000  4351.000000\n",
       "75%      66.000000  5252.000000\n",
       "max      66.000000  8212.000000"
      ]
     },
     "execution_count": 59,
     "metadata": {},
     "output_type": "execute_result"
    }
   ],
   "source": [
    "data.describe()"
   ]
  },
  {
   "cell_type": "code",
   "execution_count": 61,
   "id": "276d87f7-10e2-4288-a5a9-422c43552322",
   "metadata": {},
   "outputs": [
    {
     "data": {
      "text/plain": [
       "sms_data_id    0\n",
       "user_id        0\n",
       "sms_id         4\n",
       "body           4\n",
       "creator        4\n",
       "date           4\n",
       "dtype: int64"
      ]
     },
     "execution_count": 61,
     "metadata": {},
     "output_type": "execute_result"
    }
   ],
   "source": [
    "data.isnull().sum()"
   ]
  },
  {
   "cell_type": "code",
   "execution_count": 73,
   "id": "4bfe3375-44ee-4b0d-8db8-9127815c658a",
   "metadata": {},
   "outputs": [],
   "source": [
    "newdata = data.dropna()"
   ]
  },
  {
   "cell_type": "code",
   "execution_count": 74,
   "id": "ed3e5eba-a92f-410b-8597-8aec786adf90",
   "metadata": {},
   "outputs": [
    {
     "data": {
      "text/plain": [
       "sms_data_id    0\n",
       "user_id        0\n",
       "sms_id         0\n",
       "body           0\n",
       "creator        0\n",
       "date           0\n",
       "dtype: int64"
      ]
     },
     "execution_count": 74,
     "metadata": {},
     "output_type": "execute_result"
    }
   ],
   "source": [
    "newdata.isnull().sum()"
   ]
  },
  {
   "cell_type": "code",
   "execution_count": 76,
   "id": "720b48e0-a999-4a3c-bb5c-a3206d3e58f5",
   "metadata": {},
   "outputs": [
    {
     "name": "stdout",
     "output_type": "stream",
     "text": [
      "<class 'pandas.core.frame.DataFrame'>\n",
      "Index: 5052 entries, 0 to 5055\n",
      "Data columns (total 6 columns):\n",
      " #   Column       Non-Null Count  Dtype  \n",
      "---  ------       --------------  -----  \n",
      " 0   sms_data_id  5052 non-null   object \n",
      " 1   user_id      5052 non-null   int64  \n",
      " 2   sms_id       5052 non-null   float64\n",
      " 3   body         5052 non-null   object \n",
      " 4   creator      5052 non-null   object \n",
      " 5   date         5052 non-null   object \n",
      "dtypes: float64(1), int64(1), object(4)\n",
      "memory usage: 276.3+ KB\n"
     ]
    }
   ],
   "source": [
    "newdata.info()"
   ]
  },
  {
   "cell_type": "code",
   "execution_count": 77,
   "id": "6150ec8e-ae0a-4fa4-9b2c-e4d79a77682e",
   "metadata": {},
   "outputs": [
    {
     "data": {
      "text/html": [
       "<div>\n",
       "<style scoped>\n",
       "    .dataframe tbody tr th:only-of-type {\n",
       "        vertical-align: middle;\n",
       "    }\n",
       "\n",
       "    .dataframe tbody tr th {\n",
       "        vertical-align: top;\n",
       "    }\n",
       "\n",
       "    .dataframe thead th {\n",
       "        text-align: right;\n",
       "    }\n",
       "</style>\n",
       "<table border=\"1\" class=\"dataframe\">\n",
       "  <thead>\n",
       "    <tr style=\"text-align: right;\">\n",
       "      <th></th>\n",
       "      <th>sms_data_id</th>\n",
       "      <th>user_id</th>\n",
       "      <th>sms_id</th>\n",
       "      <th>body</th>\n",
       "      <th>creator</th>\n",
       "      <th>date</th>\n",
       "    </tr>\n",
       "  </thead>\n",
       "  <tbody>\n",
       "    <tr>\n",
       "      <th>0</th>\n",
       "      <td>624b68b4-3d96-4763-8fca-8cfbafdd945a</td>\n",
       "      <td>64</td>\n",
       "      <td>8212.0</td>\n",
       "      <td>INR 6 debited from your YES BANK prepaid card ...</td>\n",
       "      <td>com.samsung.android.messaging</td>\n",
       "      <td>2024-12-20T04:56:38.556Z</td>\n",
       "    </tr>\n",
       "    <tr>\n",
       "      <th>1</th>\n",
       "      <td>624b68b4-3d96-4763-8fca-8cfbafdd945a</td>\n",
       "      <td>64</td>\n",
       "      <td>8211.0</td>\n",
       "      <td>आपके Jio नंबर 9653181533  के प्लान की वैधता जल...</td>\n",
       "      <td>com.samsung.android.messaging</td>\n",
       "      <td>2024-12-20T03:50:29.256Z</td>\n",
       "    </tr>\n",
       "    <tr>\n",
       "      <th>2</th>\n",
       "      <td>624b68b4-3d96-4763-8fca-8cfbafdd945a</td>\n",
       "      <td>64</td>\n",
       "      <td>8210.0</td>\n",
       "      <td>Hey, Save Rs.100 extra on groceries &amp; more wit...</td>\n",
       "      <td>com.samsung.android.messaging</td>\n",
       "      <td>2024-12-20T03:49:44.705Z</td>\n",
       "    </tr>\n",
       "    <tr>\n",
       "      <th>3</th>\n",
       "      <td>624b68b4-3d96-4763-8fca-8cfbafdd945a</td>\n",
       "      <td>64</td>\n",
       "      <td>8209.0</td>\n",
       "      <td>INR 6 debited from your YES BANK prepaid card ...</td>\n",
       "      <td>com.samsung.android.messaging</td>\n",
       "      <td>2024-12-20T02:19:05.210Z</td>\n",
       "    </tr>\n",
       "    <tr>\n",
       "      <th>4</th>\n",
       "      <td>624b68b4-3d96-4763-8fca-8cfbafdd945a</td>\n",
       "      <td>64</td>\n",
       "      <td>8208.0</td>\n",
       "      <td>INR 6 debited from your YES BANK prepaid card ...</td>\n",
       "      <td>com.samsung.android.messaging</td>\n",
       "      <td>2024-12-19T21:36:28.502Z</td>\n",
       "    </tr>\n",
       "  </tbody>\n",
       "</table>\n",
       "</div>"
      ],
      "text/plain": [
       "                            sms_data_id  user_id  sms_id  \\\n",
       "0  624b68b4-3d96-4763-8fca-8cfbafdd945a       64  8212.0   \n",
       "1  624b68b4-3d96-4763-8fca-8cfbafdd945a       64  8211.0   \n",
       "2  624b68b4-3d96-4763-8fca-8cfbafdd945a       64  8210.0   \n",
       "3  624b68b4-3d96-4763-8fca-8cfbafdd945a       64  8209.0   \n",
       "4  624b68b4-3d96-4763-8fca-8cfbafdd945a       64  8208.0   \n",
       "\n",
       "                                                body  \\\n",
       "0  INR 6 debited from your YES BANK prepaid card ...   \n",
       "1  आपके Jio नंबर 9653181533  के प्लान की वैधता जल...   \n",
       "2  Hey, Save Rs.100 extra on groceries & more wit...   \n",
       "3  INR 6 debited from your YES BANK prepaid card ...   \n",
       "4  INR 6 debited from your YES BANK prepaid card ...   \n",
       "\n",
       "                         creator                      date  \n",
       "0  com.samsung.android.messaging  2024-12-20T04:56:38.556Z  \n",
       "1  com.samsung.android.messaging  2024-12-20T03:50:29.256Z  \n",
       "2  com.samsung.android.messaging  2024-12-20T03:49:44.705Z  \n",
       "3  com.samsung.android.messaging  2024-12-20T02:19:05.210Z  \n",
       "4  com.samsung.android.messaging  2024-12-19T21:36:28.502Z  "
      ]
     },
     "execution_count": 77,
     "metadata": {},
     "output_type": "execute_result"
    }
   ],
   "source": [
    "newdata.head()"
   ]
  },
  {
   "cell_type": "code",
   "execution_count": 84,
   "id": "61b84a76-c409-4423-a4a3-82dae330d743",
   "metadata": {},
   "outputs": [],
   "source": [
    "newdata."
   ]
  },
  {
   "cell_type": "code",
   "execution_count": null,
   "id": "d6294865-758b-4a07-8efa-0f881a5e6a89",
   "metadata": {},
   "outputs": [],
   "source": [
    "import seaborn as sns\n",
    "\n",
    "sns.barplot(sms_id_data)"
   ]
  },
  {
   "cell_type": "code",
   "execution_count": null,
   "id": "796f500b-f525-48f6-a2ad-225901810f44",
   "metadata": {},
   "outputs": [],
   "source": []
  }
 ],
 "metadata": {
  "kernelspec": {
   "display_name": "Python 3 (ipykernel)",
   "language": "python",
   "name": "python3"
  },
  "language_info": {
   "codemirror_mode": {
    "name": "ipython",
    "version": 3
   },
   "file_extension": ".py",
   "mimetype": "text/x-python",
   "name": "python",
   "nbconvert_exporter": "python",
   "pygments_lexer": "ipython3",
   "version": "3.12.7"
  }
 },
 "nbformat": 4,
 "nbformat_minor": 5
}
