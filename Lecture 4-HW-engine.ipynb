{
 "cells": [
  {
   "cell_type": "code",
   "execution_count": 1,
   "id": "d46e0bba",
   "metadata": {},
   "outputs": [],
   "source": [
    "import pandas as pd\n",
    "import numpy as np"
   ]
  },
  {
   "cell_type": "code",
   "execution_count": 2,
   "id": "ad4847d3",
   "metadata": {},
   "outputs": [
    {
     "name": "stdout",
     "output_type": "stream",
     "text": [
      "       KMS  mileage  engine  power  torque  price\n",
      "0    56000     7.81    2996   2996     333  63.75\n",
      "1    30615    17.40     999    999    9863   8.99\n",
      "2    24000    20.68    1995   1995     188  23.75\n",
      "3    18378    16.50    1353   1353   13808  13.56\n",
      "4    44900    14.67    1798   1798   17746  24.00\n",
      "5    42000    18.70    1199   1199     887   5.45\n",
      "6    36739    18.90    1197   1197    8186   5.12\n",
      "7    76000    15.80    1591   1591    1213   9.30\n",
      "8    68000    13.50    2987   2987   25479  42.00\n",
      "9    28783    17.00    1198   1198    1085   8.02\n",
      "10   40000    17.40    1497   1497    1176  10.95\n",
      "11   17382    16.42    1498   1498   10455   8.99\n",
      "12  120000    18.88    1995   1995     184   7.45\n",
      "13   17000    18.15     998    998   11835  10.95\n",
      "14   26867    18.90    1197   1197    8186   5.78\n",
      "15   30000    21.00    1197   1197    8180   8.95\n",
      "16  150000    18.88    1995   1995     184   8.50\n",
      "17   53000    22.69    1995   1995     190  23.50\n",
      "18   40000    17.00    1497   1497   12136   7.95\n",
      "19   48000    14.10    1368   1368   16077  18.95\n",
      "20   35000    12.40    1996   1996   21501  35.00\n",
      "21  100525    16.10    1197   1197      85   2.09\n",
      "22   83000    18.00    1497   1497    1173   6.25\n"
     ]
    }
   ],
   "source": [
    "data_car=pd.read_csv(r\"E:\\Users\\Documents\\College\\Engineering\\F.E. Eng\\ACAIDS\\used cars lecture 4.csv\")\n",
    "print(data_car)"
   ]
  },
  {
   "cell_type": "code",
   "execution_count": 3,
   "id": "c804b8af",
   "metadata": {},
   "outputs": [
    {
     "name": "stdout",
     "output_type": "stream",
     "text": [
      "    engine\n",
      "0     2996\n",
      "1      999\n",
      "2     1995\n",
      "3     1353\n",
      "4     1798\n",
      "5     1199\n",
      "6     1197\n",
      "7     1591\n",
      "8     2987\n",
      "9     1198\n",
      "10    1497\n",
      "11    1498\n",
      "12    1995\n",
      "13     998\n",
      "14    1197\n",
      "15    1197\n",
      "16    1995\n",
      "17    1995\n",
      "18    1497\n",
      "19    1368\n",
      "20    1996\n",
      "21    1197\n",
      "22    1497\n",
      "    price\n",
      "0   63.75\n",
      "1    8.99\n",
      "2   23.75\n",
      "3   13.56\n",
      "4   24.00\n",
      "5    5.45\n",
      "6    5.12\n",
      "7    9.30\n",
      "8   42.00\n",
      "9    8.02\n",
      "10  10.95\n",
      "11   8.99\n",
      "12   7.45\n",
      "13  10.95\n",
      "14   5.78\n",
      "15   8.95\n",
      "16   8.50\n",
      "17  23.50\n",
      "18   7.95\n",
      "19  18.95\n",
      "20  35.00\n",
      "21   2.09\n",
      "22   6.25\n"
     ]
    }
   ],
   "source": [
    "engine=data_car.drop([\"KMS\",\"mileage\",\"power\",\"torque\",\"price\"],axis=\"columns\")\n",
    "print(engine)\n",
    "y=data_car.drop([\"KMS\",\"mileage\",\"engine\",\"power\",\"torque\",],axis=\"columns\")\n",
    "print(y)"
   ]
  },
  {
   "cell_type": "code",
   "execution_count": 4,
   "id": "a8cf818d",
   "metadata": {},
   "outputs": [],
   "source": [
    "from sklearn.model_selection import train_test_split\n",
    "engine1,engine2,y1,y2=train_test_split(engine,y,test_size=0.4,random_state=3)"
   ]
  },
  {
   "cell_type": "code",
   "execution_count": 6,
   "id": "0b3719ac",
   "metadata": {},
   "outputs": [
    {
     "name": "stdout",
     "output_type": "stream",
     "text": [
      "    engine\n",
      "4     1798\n",
      "19    1368\n",
      "6     1197\n",
      "7     1591\n",
      "5     1199\n",
      "18    1497\n",
      "9     1198\n",
      "11    1498\n",
      "22    1497\n",
      "0     2996\n",
      "8     2987\n",
      "3     1353\n",
      "10    1497\n",
      "    engine\n",
      "21    1197\n",
      "12    1995\n",
      "17    1995\n",
      "15    1197\n",
      "14    1197\n",
      "16    1995\n",
      "1      999\n",
      "2     1995\n",
      "20    1996\n",
      "13     998\n",
      "    price\n",
      "4   24.00\n",
      "19  18.95\n",
      "6    5.12\n",
      "7    9.30\n",
      "5    5.45\n",
      "18   7.95\n",
      "9    8.02\n",
      "11   8.99\n",
      "22   6.25\n",
      "0   63.75\n",
      "8   42.00\n",
      "3   13.56\n",
      "10  10.95\n",
      "    price\n",
      "21   2.09\n",
      "12   7.45\n",
      "17  23.50\n",
      "15   8.95\n",
      "14   5.78\n",
      "16   8.50\n",
      "1    8.99\n",
      "2   23.75\n",
      "20  35.00\n",
      "13  10.95\n"
     ]
    }
   ],
   "source": [
    "print(engine1)\n",
    "print(engine2)\n",
    "print(y1)\n",
    "print(y2)"
   ]
  },
  {
   "cell_type": "code",
   "execution_count": 7,
   "id": "24456011",
   "metadata": {},
   "outputs": [],
   "source": [
    "from sklearn.linear_model import LinearRegression\n",
    "equation=LinearRegression()"
   ]
  },
  {
   "cell_type": "code",
   "execution_count": 8,
   "id": "135a1c36",
   "metadata": {},
   "outputs": [
    {
     "data": {
      "text/html": [
       "<style>#sk-container-id-1 {color: black;}#sk-container-id-1 pre{padding: 0;}#sk-container-id-1 div.sk-toggleable {background-color: white;}#sk-container-id-1 label.sk-toggleable__label {cursor: pointer;display: block;width: 100%;margin-bottom: 0;padding: 0.3em;box-sizing: border-box;text-align: center;}#sk-container-id-1 label.sk-toggleable__label-arrow:before {content: \"▸\";float: left;margin-right: 0.25em;color: #696969;}#sk-container-id-1 label.sk-toggleable__label-arrow:hover:before {color: black;}#sk-container-id-1 div.sk-estimator:hover label.sk-toggleable__label-arrow:before {color: black;}#sk-container-id-1 div.sk-toggleable__content {max-height: 0;max-width: 0;overflow: hidden;text-align: left;background-color: #f0f8ff;}#sk-container-id-1 div.sk-toggleable__content pre {margin: 0.2em;color: black;border-radius: 0.25em;background-color: #f0f8ff;}#sk-container-id-1 input.sk-toggleable__control:checked~div.sk-toggleable__content {max-height: 200px;max-width: 100%;overflow: auto;}#sk-container-id-1 input.sk-toggleable__control:checked~label.sk-toggleable__label-arrow:before {content: \"▾\";}#sk-container-id-1 div.sk-estimator input.sk-toggleable__control:checked~label.sk-toggleable__label {background-color: #d4ebff;}#sk-container-id-1 div.sk-label input.sk-toggleable__control:checked~label.sk-toggleable__label {background-color: #d4ebff;}#sk-container-id-1 input.sk-hidden--visually {border: 0;clip: rect(1px 1px 1px 1px);clip: rect(1px, 1px, 1px, 1px);height: 1px;margin: -1px;overflow: hidden;padding: 0;position: absolute;width: 1px;}#sk-container-id-1 div.sk-estimator {font-family: monospace;background-color: #f0f8ff;border: 1px dotted black;border-radius: 0.25em;box-sizing: border-box;margin-bottom: 0.5em;}#sk-container-id-1 div.sk-estimator:hover {background-color: #d4ebff;}#sk-container-id-1 div.sk-parallel-item::after {content: \"\";width: 100%;border-bottom: 1px solid gray;flex-grow: 1;}#sk-container-id-1 div.sk-label:hover label.sk-toggleable__label {background-color: #d4ebff;}#sk-container-id-1 div.sk-serial::before {content: \"\";position: absolute;border-left: 1px solid gray;box-sizing: border-box;top: 0;bottom: 0;left: 50%;z-index: 0;}#sk-container-id-1 div.sk-serial {display: flex;flex-direction: column;align-items: center;background-color: white;padding-right: 0.2em;padding-left: 0.2em;position: relative;}#sk-container-id-1 div.sk-item {position: relative;z-index: 1;}#sk-container-id-1 div.sk-parallel {display: flex;align-items: stretch;justify-content: center;background-color: white;position: relative;}#sk-container-id-1 div.sk-item::before, #sk-container-id-1 div.sk-parallel-item::before {content: \"\";position: absolute;border-left: 1px solid gray;box-sizing: border-box;top: 0;bottom: 0;left: 50%;z-index: -1;}#sk-container-id-1 div.sk-parallel-item {display: flex;flex-direction: column;z-index: 1;position: relative;background-color: white;}#sk-container-id-1 div.sk-parallel-item:first-child::after {align-self: flex-end;width: 50%;}#sk-container-id-1 div.sk-parallel-item:last-child::after {align-self: flex-start;width: 50%;}#sk-container-id-1 div.sk-parallel-item:only-child::after {width: 0;}#sk-container-id-1 div.sk-dashed-wrapped {border: 1px dashed gray;margin: 0 0.4em 0.5em 0.4em;box-sizing: border-box;padding-bottom: 0.4em;background-color: white;}#sk-container-id-1 div.sk-label label {font-family: monospace;font-weight: bold;display: inline-block;line-height: 1.2em;}#sk-container-id-1 div.sk-label-container {text-align: center;}#sk-container-id-1 div.sk-container {/* jupyter's `normalize.less` sets `[hidden] { display: none; }` but bootstrap.min.css set `[hidden] { display: none !important; }` so we also need the `!important` here to be able to override the default hidden behavior on the sphinx rendered scikit-learn.org. See: https://github.com/scikit-learn/scikit-learn/issues/21755 */display: inline-block !important;position: relative;}#sk-container-id-1 div.sk-text-repr-fallback {display: none;}</style><div id=\"sk-container-id-1\" class=\"sk-top-container\"><div class=\"sk-text-repr-fallback\"><pre>LinearRegression()</pre><b>In a Jupyter environment, please rerun this cell to show the HTML representation or trust the notebook. <br />On GitHub, the HTML representation is unable to render, please try loading this page with nbviewer.org.</b></div><div class=\"sk-container\" hidden><div class=\"sk-item\"><div class=\"sk-estimator sk-toggleable\"><input class=\"sk-toggleable__control sk-hidden--visually\" id=\"sk-estimator-id-1\" type=\"checkbox\" checked><label for=\"sk-estimator-id-1\" class=\"sk-toggleable__label sk-toggleable__label-arrow\">LinearRegression</label><div class=\"sk-toggleable__content\"><pre>LinearRegression()</pre></div></div></div></div></div>"
      ],
      "text/plain": [
       "LinearRegression()"
      ]
     },
     "execution_count": 8,
     "metadata": {},
     "output_type": "execute_result"
    }
   ],
   "source": [
    "equation.fit(engine1,y1)"
   ]
  },
  {
   "cell_type": "code",
   "execution_count": 10,
   "id": "5bfca56b",
   "metadata": {
    "scrolled": true
   },
   "outputs": [
    {
     "name": "stdout",
     "output_type": "stream",
     "text": [
      "[[ 4.89593342]\n",
      " [25.85963034]\n",
      " [25.85963034]\n",
      " [ 4.89593342]\n",
      " [ 4.89593342]\n",
      " [25.85963034]\n",
      " [-0.30558536]\n",
      " [25.85963034]\n",
      " [25.88590064]\n",
      " [-0.33185566]]\n"
     ]
    }
   ],
   "source": [
    "y_predicted=equation.predict(engine2)\n",
    "print(y_predicted)"
   ]
  },
  {
   "cell_type": "code",
   "execution_count": 11,
   "id": "0cebe974",
   "metadata": {},
   "outputs": [
    {
     "data": {
      "text/plain": [
       "7.767412834015056"
      ]
     },
     "execution_count": 11,
     "metadata": {},
     "output_type": "execute_result"
    }
   ],
   "source": [
    "from sklearn import metrics\n",
    "MAE=metrics.mean_absolute_error(y2,y_predicted)\n",
    "MAE"
   ]
  },
  {
   "cell_type": "code",
   "execution_count": 12,
   "id": "2b544891",
   "metadata": {},
   "outputs": [
    {
     "data": {
      "text/plain": [
       "-0.006094184534670255"
      ]
     },
     "execution_count": 12,
     "metadata": {},
     "output_type": "execute_result"
    }
   ],
   "source": [
    "Rsquare=metrics.r2_score(y2,y_predicted)\n",
    "Rsquare"
   ]
  },
  {
   "cell_type": "code",
   "execution_count": 13,
   "id": "cd2c92f3",
   "metadata": {},
   "outputs": [
    {
     "data": {
      "text/plain": [
       "<Axes: xlabel='price'>"
      ]
     },
     "execution_count": 13,
     "metadata": {},
     "output_type": "execute_result"
    },
    {
     "data": {
      "image/png": "[encoded data removed]",
      "text/plain": [
       "<Figure size 640x480 with 1 Axes>"
      ]
     },
     "metadata": {},
     "output_type": "display_data"
    }
   ],
   "source": [
    "import seaborn as sns\n",
    "import matplotlib.pyplot as plt\n",
    "\n",
    "sns.regplot(x=y2,y=y_predicted)"
   ]
  },
  {
   "cell_type": "code",
   "execution_count": null,
   "id": "3b9e1157",
   "metadata": {},
   "outputs": [],
   "source": []
  }
 ],
 "metadata": {
  "kernelspec": {
   "display_name": "Python 3 (ipykernel)",
   "language": "python",
   "name": "python3"
  },
  "language_info": {
   "codemirror_mode": {
    "name": "ipython",
    "version": 3
   },
   "file_extension": ".py",
   "mimetype": "text/x-python",
   "name": "python",
   "nbconvert_exporter": "python",
   "pygments_lexer": "ipython3",
   "version": "3.11.5"
  }
 },
 "nbformat": 4,
 "nbformat_minor": 5
}
