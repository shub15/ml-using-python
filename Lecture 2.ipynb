{
 "cells": [
  {
   "cell_type": "code",
   "execution_count": 1,
   "id": "7acf1851",
   "metadata": {},
   "outputs": [],
   "source": [
    "import pandas as pd\n",
    "import numpy as np"
   ]
  },
  {
   "cell_type": "code",
   "execution_count": 2,
   "id": "9d446517",
   "metadata": {},
   "outputs": [
    {
     "name": "stdout",
     "output_type": "stream",
     "text": [
      "   kms_driven  mileage  engine  max_power  torque  price\n",
      "0       56000     7.81    2996       2996     333  63.75\n",
      "1       30615    17.40     999        999    9863   8.99\n",
      "2       24000    20.68    1995       1995     188  23.75\n",
      "3       18378    16.50    1353       1353   13808  13.56\n",
      "4       44900    14.67    1798       1798   17746  24.00\n",
      "5       42000    18.70    1199       1199     887   5.45\n",
      "6       36739    18.90    1197       1197    8186   5.12\n",
      "7       76000    15.80    1591       1591    1213   9.30\n",
      "8       68000    13.50    2987       2987   25479  42.00\n",
      "9       28783    17.00    1198       1198    1085   8.02\n"
     ]
    }
   ],
   "source": [
    "data_car=pd.read_csv(r\"E:\\Users\\Documents\\College\\Engineering\\F.E. Eng\\ACAIDS\\used cars.csv\")\n",
    "print(data_car)"
   ]
  },
  {
   "cell_type": "code",
   "execution_count": 5,
   "id": "eb07213f",
   "metadata": {},
   "outputs": [
    {
     "name": "stdout",
     "output_type": "stream",
     "text": [
      "   kms_driven  mileage  engine\n",
      "0       56000     7.81    2996\n",
      "1       30615    17.40     999\n",
      "2       24000    20.68    1995\n",
      "3       18378    16.50    1353\n",
      "4       44900    14.67    1798\n",
      "5       42000    18.70    1199\n",
      "6       36739    18.90    1197\n",
      "7       76000    15.80    1591\n",
      "8       68000    13.50    2987\n",
      "9       28783    17.00    1198\n"
     ]
    }
   ],
   "source": [
    "x=data_car.drop([\"max_power\",\"torque\",\"price\"], axis=\"columns\")\n",
    "print(x)"
   ]
  },
  {
   "cell_type": "code",
   "execution_count": 7,
   "id": "bfa18e30",
   "metadata": {},
   "outputs": [
    {
     "name": "stdout",
     "output_type": "stream",
     "text": [
      "   max_power  torque  price\n",
      "0       2996     333  63.75\n",
      "1        999    9863   8.99\n",
      "2       1995     188  23.75\n",
      "3       1353   13808  13.56\n",
      "4       1798   17746  24.00\n",
      "5       1199     887   5.45\n",
      "6       1197    8186   5.12\n",
      "7       1591    1213   9.30\n",
      "8       2987   25479  42.00\n",
      "9       1198    1085   8.02\n"
     ]
    }
   ],
   "source": [
    "y=data_car.drop([\"kms_driven\",\"mileage\",\"engine\"], axis=\"columns\")\n",
    "print(y)"
   ]
  },
  {
   "cell_type": "markdown",
   "id": "0fe9932c",
   "metadata": {},
   "source": [
    "# Importing library to split excel sheet in ratio"
   ]
  },
  {
   "cell_type": "code",
   "execution_count": 8,
   "id": "93044a86",
   "metadata": {},
   "outputs": [],
   "source": [
    "from sklearn.model_selection import train_test_split\n",
    "x1,x2,y1,y2=train_test_split(x,y,test_size=0.4,random_state=1)"
   ]
  },
  {
   "cell_type": "code",
   "execution_count": 9,
   "id": "b002eabb",
   "metadata": {},
   "outputs": [
    {
     "name": "stdout",
     "output_type": "stream",
     "text": [
      "   kms_driven  mileage  engine\n",
      "0       56000     7.81    2996\n",
      "3       18378    16.50    1353\n",
      "1       30615    17.40     999\n",
      "7       76000    15.80    1591\n",
      "8       68000    13.50    2987\n",
      "5       42000    18.70    1199\n",
      "   kms_driven  mileage  engine\n",
      "2       24000    20.68    1995\n",
      "9       28783    17.00    1198\n",
      "6       36739    18.90    1197\n",
      "4       44900    14.67    1798\n",
      "   max_power  torque  price\n",
      "0       2996     333  63.75\n",
      "3       1353   13808  13.56\n",
      "1        999    9863   8.99\n",
      "7       1591    1213   9.30\n",
      "8       2987   25479  42.00\n",
      "5       1199     887   5.45\n",
      "   max_power  torque  price\n",
      "2       1995     188  23.75\n",
      "9       1198    1085   8.02\n",
      "6       1197    8186   5.12\n",
      "4       1798   17746  24.00\n"
     ]
    }
   ],
   "source": [
    "print(x1)\n",
    "print(x2)\n",
    "print(y1)\n",
    "print(y2)"
   ]
  },
  {
   "cell_type": "code",
   "execution_count": null,
   "id": "b14c40c6",
   "metadata": {},
   "outputs": [],
   "source": []
  }
 ],
 "metadata": {
  "kernelspec": {
   "display_name": "Python 3 (ipykernel)",
   "language": "python",
   "name": "python3"
  },
  "language_info": {
   "codemirror_mode": {
    "name": "ipython",
    "version": 3
   },
   "file_extension": ".py",
   "mimetype": "text/x-python",
   "name": "python",
   "nbconvert_exporter": "python",
   "pygments_lexer": "ipython3",
   "version": "3.11.5"
  }
 },
 "nbformat": 4,
 "nbformat_minor": 5
}
